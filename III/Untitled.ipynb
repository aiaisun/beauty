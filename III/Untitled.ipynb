{
 "cells": [
  {
   "cell_type": "code",
   "execution_count": 3,
   "metadata": {},
   "outputs": [],
   "source": [
    "#匯入必要的library\n",
    "from __future__ import print_function\n",
    "from imutils import paths\n",
    "from scipy.io import loadmat\n",
    "from skimage import io\n",
    "import argparse\n",
    "import dlib\n",
    "import cv2\n",
    "import re\n",
    "import os\n",
    "import sys\n",
    "import json\n",
    "username = \"user1\""
   ]
  },
  {
   "cell_type": "code",
   "execution_count": 8,
   "metadata": {},
   "outputs": [
    {
     "name": "stdout",
     "output_type": "stream",
     "text": [
      "4\n"
     ]
    }
   ],
   "source": [
    "photoDetectedList = [\"waterNang\", \"forestPark\", \"turtleIsland\", \"cup\"]\n",
    "detectorNum = len(photoDetectedList)\n",
    "print(detectorNum)"
   ]
  },
  {
   "cell_type": "code",
   "execution_count": 16,
   "metadata": {},
   "outputs": [
    {
     "data": {
      "text/plain": [
       "['waterNang', 'turtleIsland', 'forestPark', 'cup']"
      ]
     },
     "execution_count": 16,
     "metadata": {},
     "output_type": "execute_result"
    }
   ],
   "source": [
    "photoDetectedList = [\"waterNang\", \"forestPark\", \"turtleIsland\", \"cup\",\"cup\"]\n",
    "photoDetectedList2 = list(set(photoDetectedList))\n",
    "photoDetectedList2"
   ]
  },
  {
   "cell_type": "code",
   "execution_count": 38,
   "metadata": {},
   "outputs": [],
   "source": [
    "result = {\n",
    "    \"detectorNum\" : 2,\n",
    "    \"From\" : 2,\n",
    "}"
   ]
  },
  {
   "cell_type": "code",
   "execution_count": 39,
   "metadata": {},
   "outputs": [],
   "source": [
    "\n",
    "for detector in photoDetectedList:\n",
    "    imgPathList = []\n",
    "    for imgPath in paths.list_images(r\"public/user/{}/{}\".format(username,detector)):\n",
    "        imgPathList.append(imgPath)\n",
    "        \n",
    "    result[detector] = imgPathList\n",
    "        "
   ]
  },
  {
   "cell_type": "code",
   "execution_count": 40,
   "metadata": {},
   "outputs": [
    {
     "data": {
      "text/plain": [
       "{'detectorNum': 2,\n",
       " 'From': 2,\n",
       " 'waterNang': ['public/user/user1/waterNang/4.jpg'],\n",
       " 'forestPark': ['public/user/user1/forestPark/2.jpg'],\n",
       " 'turtleIsland': ['public/user/user1/turtleIsland/3.jpg'],\n",
       " 'cup': ['public/user/user1/cup/1.jpg']}"
      ]
     },
     "execution_count": 40,
     "metadata": {},
     "output_type": "execute_result"
    }
   ],
   "source": [
    "result"
   ]
  },
  {
   "cell_type": "code",
   "execution_count": null,
   "metadata": {},
   "outputs": [],
   "source": []
  }
 ],
 "metadata": {
  "kernelspec": {
   "display_name": "Python 3",
   "language": "python",
   "name": "python3"
  },
  "language_info": {
   "codemirror_mode": {
    "name": "ipython",
    "version": 3
   },
   "file_extension": ".py",
   "mimetype": "text/x-python",
   "name": "python",
   "nbconvert_exporter": "python",
   "pygments_lexer": "ipython3",
   "version": "3.6.9"
  }
 },
 "nbformat": 4,
 "nbformat_minor": 4
}
