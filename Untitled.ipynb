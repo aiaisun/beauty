{
 "cells": [
  {
   "cell_type": "code",
   "execution_count": 2,
   "metadata": {},
   "outputs": [],
   "source": [
    "#匯入必要的library\n",
    "from __future__ import print_function\n",
    "from imutils import paths\n",
    "from scipy.io import loadmat\n",
    "from skimage import io\n",
    "import argparse\n",
    "import dlib\n",
    "import cv2\n",
    "import re\n",
    "import xml.etree.ElementTree as ET\n",
    "import os\n"
   ]
  },
  {
   "cell_type": "code",
   "execution_count": 22,
   "metadata": {},
   "outputs": [
    {
     "name": "stdout",
     "output_type": "stream",
     "text": [
      "(333, 499, 3)\n",
      "Pic 001, Right saved. Box size: 3136\n"
     ]
    }
   ],
   "source": [
    "options = dlib.simple_object_detector_training_options()\n",
    "#存放相片圖檔\n",
    "turtleIslandImages = [] \n",
    "turtleIslandLeftImages = []\n",
    "turtleIslandTopImages = []\n",
    "#存放Annotations\n",
    "turtleIslandBoxes = [] \n",
    "turtleIslandLeftBoxes = []\n",
    "turtleIslandTopBoxes = []\n",
    " \n",
    "#依序處理path下的每張圖片\n",
    "for imagePath in paths.list_images(\"yilan/turtleIsland/turtleIslandPic\"):\n",
    "    imageID = imagePath[imagePath.rfind(\"/\") + 1:].replace(\".jpg\", \"\")\n",
    "#     print(imagePath)\n",
    "    \n",
    "    #read XML file      \n",
    "    xmlPath = \"yilan/turtleIsland/turtleIslandLabel/\" + imageID + \".xml\"\n",
    "    #print(xmlPath)\n",
    "    tree = ET.parse(xmlPath)\n",
    "    root = tree.getroot()\n",
    "    for xml in root.findall('object'):\n",
    "        detector = xml.find(\"name\").text\n",
    "        x = int(xml.find(\"bndbox\").find(\"xmin\").text)\n",
    "        y = int(xml.find(\"bndbox\").find(\"ymin\").text)\n",
    "        width = int(xml.find(\"bndbox\").find(\"xmax\").text) - x\n",
    "        height = int(xml.find(\"bndbox\").find(\"ymax\").text) - y\n",
    "        ratio = height / width\n",
    "        pixel = height * height\n",
    "#         print(x, y, width, height, ratio, pixel)\n",
    "\n",
    "    #取出annotations資訊繪成矩形物件\n",
    "    bb = [dlib.rectangle(left = round(x * ratio), top = y, right = height, bottom = height)]    \n",
    "#     print(bb)\n",
    "    #revise pic width\n",
    "    img = cv2.imread(imagePath, cv2.IMREAD_UNCHANGED)\n",
    "    print(img.shape)\n",
    "    picWidth = round(img.shape[1] * ratio)\n",
    "    picHeight = img.shape[0] # keep original height\n",
    "    dim = (picWidth, picHeight)\n",
    "\n",
    "    # resize image\n",
    "    resized = cv2.resize(img, dim, interpolation = cv2.INTER_AREA)\n",
    "#     print('Original Dimensions : ', img.shape) \n",
    "#     print('Resized Dimensions : ', resized.shape)\n",
    "#     print(resized)\n",
    "#     print(cv2.imread(imagePath))\n",
    "#     cv2.rectangle(resized, (round(x * ratio), y), (round(x * ratio) + height, y + height), (0, 255, 0), 2) \n",
    "#     cv2.imshow(\"Resized image\", resized)\n",
    "#     cv2.waitKey(0)\n",
    "#     cv2.destroyAllWindows() \n",
    "\n",
    "    if detector == \"turtleIsland\":\n",
    "        #放入boxes變數中。\n",
    "        if pixel > 1000:\n",
    "            turtleIslandBoxes.append(bb)\n",
    "            #將圖片放入images變數\n",
    "#             turtleIslandImages.append(cv2.imread(imagePath))\n",
    "            turtleIslandImages.append(io.imread(imagePath))\n",
    "            cv2.imshow(\"Resized image\", img)\n",
    "            print(\"Pic {}, Right saved. Box size: {}\".format(imageID, height * height))\n",
    "        else:\n",
    "            print(\"pixel smaller than 400 \")\n",
    "    \n",
    "#     elif pixel >= 400 & detector == \"turtleIslandLeft\":\n",
    "#         #放入boxes變數中。\n",
    "#         turtleIslandLeftBoxes.append(bb)\n",
    "        \n",
    "#         #將圖片放入images變數\n",
    "#         turtleIslandLeftImages.append(cv2.imread(imagePath))\n",
    "#         print(\"Pic {}, Left saved.\".format(imageID))\n",
    "    \n",
    "#     elif pixel >= 400 & detector == \"turtleIslandTop\":\n",
    "#         #放入boxes變數中。\n",
    "#         turtleIslandTopBoxes.append(bb)\n",
    "        \n",
    "#         #將圖片放入images變數\n",
    "#         turtleIslandTopImages.append(cv2.imread(imagePath))\n",
    "        \n",
    "    \n",
    "#         print(\"Pic {}, Top saved.\".format(imageID))\n",
    "        \n",
    "#     else:\n",
    "#         print(\"not exit\")"
   ]
  },
  {
   "cell_type": "code",
   "execution_count": 19,
   "metadata": {
    "scrolled": true
   },
   "outputs": [
    {
     "ename": "AttributeError",
     "evalue": "'list' object has no attribute 'shape'",
     "output_type": "error",
     "traceback": [
      "\u001b[0;31m---------------------------------------------------------------------------\u001b[0m",
      "\u001b[0;31mAttributeError\u001b[0m                            Traceback (most recent call last)",
      "\u001b[0;32m<ipython-input-19-af7b00d393e7>\u001b[0m in \u001b[0;36m<module>\u001b[0;34m\u001b[0m\n\u001b[0;32m----> 1\u001b[0;31m \u001b[0mturtleIslandImages\u001b[0m\u001b[0;34m.\u001b[0m\u001b[0mshape\u001b[0m\u001b[0;34m\u001b[0m\u001b[0;34m\u001b[0m\u001b[0m\n\u001b[0m",
      "\u001b[0;31mAttributeError\u001b[0m: 'list' object has no attribute 'shape'"
     ]
    }
   ],
   "source": [
    "turtleIslandImages.shape"
   ]
  },
  {
   "cell_type": "code",
   "execution_count": 25,
   "metadata": {},
   "outputs": [
    {
     "data": {
      "text/plain": [
       "[[rectangle(9,149,371,56)]]"
      ]
     },
     "execution_count": 25,
     "metadata": {},
     "output_type": "execute_result"
    }
   ],
   "source": [
    "turtleIslandBoxes"
   ]
  },
  {
   "cell_type": "code",
   "execution_count": null,
   "metadata": {},
   "outputs": [],
   "source": []
  },
  {
   "cell_type": "code",
   "execution_count": 24,
   "metadata": {},
   "outputs": [
    {
     "name": "stdout",
     "output_type": "stream",
     "text": [
      "[INFO] training detector...\n"
     ]
    },
    {
     "ename": "RuntimeError",
     "evalue": "\nError! An impossible set of object boxes was given for training. All the boxes \nneed to have a similar aspect ratio and also not be smaller than about 400 \npixels in area. \n",
     "output_type": "error",
     "traceback": [
      "\u001b[0;31m---------------------------------------------------------------------------\u001b[0m",
      "\u001b[0;31mRuntimeError\u001b[0m                              Traceback (most recent call last)",
      "\u001b[0;32m<ipython-input-24-b3c0d61f5f3b>\u001b[0m in \u001b[0;36m<module>\u001b[0;34m\u001b[0m\n\u001b[1;32m      1\u001b[0m \u001b[0;31m#丟入三個參數開始訓練\u001b[0m\u001b[0;34m\u001b[0m\u001b[0;34m\u001b[0m\u001b[0;34m\u001b[0m\u001b[0m\n\u001b[1;32m      2\u001b[0m \u001b[0mprint\u001b[0m\u001b[0;34m(\u001b[0m\u001b[0;34m\"[INFO] training detector...\"\u001b[0m\u001b[0;34m)\u001b[0m\u001b[0;34m\u001b[0m\u001b[0;34m\u001b[0m\u001b[0m\n\u001b[0;32m----> 3\u001b[0;31m \u001b[0mdetector\u001b[0m \u001b[0;34m=\u001b[0m \u001b[0mdlib\u001b[0m\u001b[0;34m.\u001b[0m\u001b[0mtrain_simple_object_detector\u001b[0m\u001b[0;34m(\u001b[0m\u001b[0mturtleIslandImages\u001b[0m\u001b[0;34m,\u001b[0m \u001b[0mturtleIslandBoxes\u001b[0m\u001b[0;34m,\u001b[0m \u001b[0moptions\u001b[0m\u001b[0;34m)\u001b[0m\u001b[0;34m\u001b[0m\u001b[0;34m\u001b[0m\u001b[0m\n\u001b[0m\u001b[1;32m      4\u001b[0m \u001b[0;34m\u001b[0m\u001b[0m\n\u001b[1;32m      5\u001b[0m \u001b[0;31m# 將訓練結果匯出到檔案\u001b[0m\u001b[0;34m\u001b[0m\u001b[0;34m\u001b[0m\u001b[0;34m\u001b[0m\u001b[0m\n",
      "\u001b[0;31mRuntimeError\u001b[0m: \nError! An impossible set of object boxes was given for training. All the boxes \nneed to have a similar aspect ratio and also not be smaller than about 400 \npixels in area. \n"
     ]
    }
   ],
   "source": [
    "#丟入三個參數開始訓練\n",
    "print(\"[INFO] training detector...\")\n",
    "detector = dlib.train_simple_object_detector(turtleIslandImages, turtleIslandBoxes, options)\n",
    " \n",
    "# 將訓練結果匯出到檔案\n",
    "print(\"[INFO] dumping classifier to file...\")\n",
    "# regex = re.compile(r'/.+')\n",
    "# output = regex.findall(args[\"class\"])[0].replace(\"/\",\"\")\n",
    "# detector.save(\"output/\" + output)\n",
    "detector.save(\"output/\" + \"turtleIslandTop\")\n",
    "\n",
    "# 圖形化顯示Histogram of Oriented Gradients（簡稱HOG）\n",
    "win = dlib.image_window()\n",
    "win.set_image(detector)\n",
    "dlib.hit_enter_to_continue()"
   ]
  },
  {
   "cell_type": "code",
   "execution_count": 13,
   "metadata": {
    "scrolled": true
   },
   "outputs": [
    {
     "name": "stdout",
     "output_type": "stream",
     "text": [
      "60 149 371 56 0.1509433962264151\n",
      "Original Dimensions :  (333, 499, 3)\n",
      "75\n",
      "Resized Dimensions :  (333, 75, 3)\n"
     ]
    }
   ],
   "source": [
    "import cv2\n",
    " \n",
    "img = cv2.imread('yilan/turtleIsland/turtleIslandPic/001.jpg', cv2.IMREAD_UNCHANGED)\n",
    "xml = \"yilan/turtleIsland/turtleIslandLabel/001.xml\"\n",
    "tree = ET.parse(xml)\n",
    "root = tree.getroot()\n",
    "for size in root.findall('object'):\n",
    "    x = int(size.find(\"bndbox\").find(\"xmin\").text)\n",
    "    y = int(size.find(\"bndbox\").find(\"ymin\").text)\n",
    "    width = int(size.find(\"bndbox\").find(\"xmax\").text) - x\n",
    "    height = int(size.find(\"bndbox\").find(\"ymax\").text) - y\n",
    "    ratio = height / width\n",
    "    print(x, y, width, height, ratio)\n",
    "    \n",
    "print('Original Dimensions : ', img.shape) \n",
    "\n",
    "picWidth = round(img.shape[1] * ratio)\n",
    "print(picWidth)\n",
    "picHeight = img.shape[0] # keep original height\n",
    "dim = (picWidth, picHeight)\n",
    " \n",
    "# resize image\n",
    "resized = cv2.resize(img, dim, interpolation = cv2.INTER_AREA)\n",
    " \n",
    "print('Resized Dimensions : ', resized.shape)\n",
    "\n",
    "cv2.rectangle(img, (round(x * ratio), y), (round(x * ratio) + height, y + height), (0, 255, 0), 2) \n",
    "# cv2.imshow(\"Resized image\", resized)\n",
    "cv2.imshow(\"Resized image\", img)\n",
    "cv2.waitKey(0)\n",
    "cv2.destroyAllWindows() "
   ]
  },
  {
   "cell_type": "code",
   "execution_count": null,
   "metadata": {},
   "outputs": [],
   "source": [
    "# no resize\n",
    "options = dlib.simple_object_detector_training_options()\n",
    "#存放相片圖檔\n",
    "turtleIslandImages = [] \n",
    "turtleIslandLeftImages = []\n",
    "turtleIslandTopImages = []\n",
    "#存放Annotations\n",
    "turtleIslandBoxes = [] \n",
    "turtleIslandLeftBoxes = []\n",
    "turtleIslandTopBoxes = []\n",
    " \n",
    "#依序處理path下的每張圖片\n",
    "for imagePath in paths.list_images(\"yilan/turtleIsland/turtleIslandPic\"):\n",
    "    imageID = imagePath[imagePath.rfind(\"/\") + 1:].replace(\".jpg\", \"\")\n",
    "    #print(imagePath)\n",
    "    \n",
    "    #read XML file      \n",
    "    xmlPath = \"yilan/turtleIsland/turtleIslandLabel/\" + imageID + \".xml\"\n",
    "    #print(xmlPath)\n",
    "    tree = ET.parse(xmlPath)\n",
    "    root = tree.getroot()\n",
    "    for xml in root.findall('object'):\n",
    "        detector = xml.find(\"name\").text\n",
    "        x = int(xml.find(\"bndbox\").find(\"xmin\").text)\n",
    "        y = int(xml.find(\"bndbox\").find(\"ymin\").text)\n",
    "        width = int(xml.find(\"bndbox\").find(\"xmax\").text) - x\n",
    "        height = int(xml.find(\"bndbox\").find(\"ymax\").text) - y\n",
    "        ratio = height / width\n",
    "        print(ratio)\n",
    "        print(width*height)\n",
    "        #print(x, y, width, height)\n",
    "    #取出annotations資訊繪成矩形物件\n",
    "#     bb = [dlib.rectangle(left = x, top = y, right = width, bottom = height)]\n",
    "    \n",
    "#     if detector == \"turtleIsland\":\n",
    "#         #放入boxes變數中。\n",
    "#         turtleIslandBoxes.append(bb)\n",
    "#         #將圖片放入images變數\n",
    "#         turtleIslandImages.append(io.imread(imagePath))\n",
    "#         print(\"Pic {}, Right saved.\".format(imageID))\n",
    "    \n",
    "#     elif detector == \"turtleIslandLeft\":\n",
    "#         #放入boxes變數中。\n",
    "#         turtleIslandLeftBoxes.append(bb)\n",
    "        \n",
    "#         #將圖片放入images變數\n",
    "#         turtleIslandLeftImages.append(io.imread(imagePath))\n",
    "#         print(\"Pic {}, Left saved.\".format(imageID))\n",
    "    \n",
    "#     elif detector == \"turtleIslandTop\":\n",
    "#         #放入boxes變數中。\n",
    "#         turtleIslandTopBoxes.append(bb)\n",
    "        \n",
    "#         #將圖片放入images變數\n",
    "#         turtleIslandTopImages.append(io.imread(imagePath))\n",
    "        \n",
    "#         print(\"Pic {}, Top saved.\".format(imageID))\n",
    "        \n",
    "#     else:\n",
    "#         print(\"not exit\")\n"
   ]
  },
  {
   "cell_type": "code",
   "execution_count": null,
   "metadata": {},
   "outputs": [],
   "source": [
    "for path in os.listdir(\"turtleIslandLabel\"):\n",
    "    filePath = os.path.dirname(\"turtleIslandLabel/\") + \"/\" + path\n",
    "    print(filePath)\n",
    "    tree = ET.parse(filePath)\n",
    "    root = tree.getroot()\n",
    "    for size in root.findall('object'):\n",
    "        x = int(size.find(\"bndbox\").find(\"xmin\").text)\n",
    "        y = int(size.find(\"bndbox\").find(\"ymin\").text)\n",
    "        width = int(size.find(\"bndbox\").find(\"xmax\").text) - x\n",
    "        height = int(size.find(\"bndbox\").find(\"ymax\").text) - y\n",
    "        print(x, y, width, height)"
   ]
  },
  {
   "cell_type": "code",
   "execution_count": null,
   "metadata": {},
   "outputs": [],
   "source": [
    "cv2."
   ]
  }
 ],
 "metadata": {
  "kernelspec": {
   "display_name": "Python 3",
   "language": "python",
   "name": "python3"
  },
  "language_info": {
   "codemirror_mode": {
    "name": "ipython",
    "version": 3
   },
   "file_extension": ".py",
   "mimetype": "text/x-python",
   "name": "python",
   "nbconvert_exporter": "python",
   "pygments_lexer": "ipython3",
   "version": "3.6.9"
  }
 },
 "nbformat": 4,
 "nbformat_minor": 4
}
