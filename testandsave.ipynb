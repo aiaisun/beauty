{
 "cells": [
  {
   "cell_type": "code",
   "execution_count": 1,
   "metadata": {},
   "outputs": [],
   "source": [
    "#匯入必要的library\n",
    "from __future__ import print_function\n",
    "from imutils import paths\n",
    "from scipy.io import loadmat\n",
    "from skimage import io\n",
    "import argparse\n",
    "import dlib\n",
    "import cv2\n",
    "import re\n",
    "import os\n",
    "import json"
   ]
  },
  {
   "cell_type": "code",
   "execution_count": 93,
   "metadata": {},
   "outputs": [],
   "source": [
    "img = io.imread(\"spot/test1/cup.jpg\")\n",
    "io.imsave(\"cup.jpg\",img)"
   ]
  },
  {
   "cell_type": "code",
   "execution_count": 7,
   "metadata": {},
   "outputs": [],
   "source": [
    "cup = dlib.fhog_object_detector(\"output/cup\")\n",
    "forestPark = dlib.fhog_object_detector(\"output/forestPark\")\n",
    "waterNang = dlib.fhog_object_detector(\"output/waterNang\")\n",
    "yehliu = dlib.fhog_object_detector(\"output/yehliu\")\n",
    "turtleIsland = dlib.fhog_object_detector(\"output/turtleIsland\")\n",
    "# detectors = [cup, forestPark, waterNang, yehliu, turtleIsland]\n",
    "detectors = [cup, forestPark]\n",
    "detectorList = [\"cup\", \"forestPark\", \"waterNang\", \"yehliu\", \"turtleIsland\"]\n",
    "num = 0"
   ]
  },
  {
   "cell_type": "code",
   "execution_count": 7,
   "metadata": {},
   "outputs": [
    {
     "name": "stdout",
     "output_type": "stream",
     "text": [
      "forestPark\n"
     ]
    }
   ],
   "source": [
    "imgPath = \"spot/test2/forestPark.jpg\"\n",
    "image = dlib.load_rgb_image(imgPath)\n",
    "\n",
    "#show detector\n",
    "[boxes, confidences, detector_idxs] = dlib.fhog_object_detector.run_multiple(detectors, image, upsample_num_times=1, adjust_threshold=0.0)\n",
    "detectorName = detectorList[detector_idxs[0]]\n",
    "print(detectorName)\n",
    "    ########todo!!!!! no detetor save to others\n",
    "    \n",
    "    #create folder\n",
    "#     os.makedirs(\"{}/{}\".format(usr, detectorName))\n",
    "    \n",
    "    #save image\n",
    "#     img = io.imread(imgPath)\n",
    "#     io.imsave(\"{}/{}/{}.jpg\".format(usr, detectorName, detector_idxs[0]),img)\n",
    "#     print(\"detector '{}' found box {} with confidence {}.\".format(detectorName, boxes[0], confidences[0]))"
   ]
  },
  {
   "cell_type": "code",
   "execution_count": 11,
   "metadata": {},
   "outputs": [
    {
     "name": "stdout",
     "output_type": "stream",
     "text": [
      "{\"Name\": \"forestPark\", \"photoPath\": \"spot/test2/forestPark.jpg\"}\n"
     ]
    }
   ],
   "source": [
    "result = {\n",
    "    \"Name\" : detectorName,\n",
    "    \"photoPath\" : imgPath\n",
    "}\n",
    "\n",
    "resultjson = json.dumps(result)\n",
    "print(str(resultjson))"
   ]
  },
  {
   "cell_type": "code",
   "execution_count": 18,
   "metadata": {
    "scrolled": false
   },
   "outputs": [
    {
     "name": "stdout",
     "output_type": "stream",
     "text": [
      "user5\n",
      "spot/test1/cup.jpg\n",
      "detector 'cup' found box [(43, 43) (291, 242)] with confidence 0.9232204625011989.\n",
      "spot/test1/waterNang.jpg\n",
      "detector 'forestPark' found box [(159, 71) (1046, 781)] with confidence 0.23720299358605107.\n",
      "spot/test1/forestPark.jpg\n",
      "detector 'forestPark' found box [(8, 8) (127, 104)] with confidence 1.6350780343556282.\n",
      "spot/test1/turtleIsland.jpg\n",
      "not found.\n"
     ]
    }
   ],
   "source": [
    "#define user\n",
    "num += 1\n",
    "usr = \"user{}\".format(num)\n",
    "print(usr)\n",
    "n=1\n",
    "for imgPath in paths.list_images(\"spot/test1\"):\n",
    "\n",
    "    #load image\n",
    "    print(imgPath)\n",
    "    image = dlib.load_rgb_image(imgPath)\n",
    "    \n",
    "    #show detector\n",
    "    [boxes, confidences, detector_idxs] = dlib.fhog_object_detector.run_multiple(detectors, image, upsample_num_times=1, adjust_threshold=0.0)\n",
    "    if not detector_idxs:\n",
    "        detectorName = \"Others\"\n",
    "        print(\"not found.\")\n",
    "    else:\n",
    "        detectorName = detectorList[detector_idxs[0]]\n",
    "        print(\"detector '{}' found box {} with confidence {}.\".format(detectorName, boxes[0], confidences[0]))\n",
    "    ########todo!!!!! no detetor save to others\n",
    "    \n",
    "    #create folder\n",
    "    folderPath = r\"{}/{}\".format(usr, detectorName)\n",
    "    if not os.path.isdir(folderPath):\n",
    "        os.makedirs(folderPath)\n",
    "    \n",
    "    #save image\n",
    "    img = io.imread(imgPath)\n",
    "    io.imsave(\"{}/{}/{}.jpg\".format(usr, detectorName, n), img)\n",
    "    n = n+ 1 "
   ]
  },
  {
   "cell_type": "code",
   "execution_count": null,
   "metadata": {},
   "outputs": [],
   "source": [
    "#載入訓練好的detector\n",
    "detector = dlib.simple_object_detector(args[\"detector\"])\n",
    " \n",
    "#載入測試圖片逐張進行\n",
    "for testingPath in paths.list_images(args[\"testing\"]):\n",
    "#讀取圖片並執行dector並產生矩形物件以便用於標記辨識出的部份\n",
    "    image = cv2.imread(testingPath)\n",
    "    boxes = detector(cv2.cvtColor(image, cv2.COLOR_BGR2RGB))\n",
    " \n",
    "#在圖片上繪出該矩形\n",
    "    for b in boxes:\n",
    "        (x, y, w, h) = (b.left(), b.top(), b.right(), b.bottom())\n",
    "        cv2.rectangle(image, (x, y), (w, h), (0, 255, 0), 2)\n",
    " \n",
    "#顯示圖片\n",
    "        cv2.imshow(\"Image\", image)\n",
    "        cv2.waitKey(0)"
   ]
  },
  {
   "cell_type": "code",
   "execution_count": 4,
   "metadata": {},
   "outputs": [],
   "source": [
    "options = dlib.simple_object_detector_training_options()\n",
    "images = [] #存放相片圖檔\n",
    "boxes = [] #存放Annotations\n",
    " \n",
    "#依序處理path下的每張圖片\n",
    "\n",
    "for imagePath in paths.list_images(\"yilan/forestPark\"):\n",
    "    #從圖片路徑名稱中取出ImageID\n",
    "    imageID = imagePath[imagePath.rfind(\"/\") + 1:]\n",
    "    img = cv2.imread(imagePath)\n",
    "    left, top, height, width = 1, 1, img.shape[0], img.shape[1]\n",
    "    \n",
    "    #取出annotations資訊繪成矩形物件，放入boxes變數中。\n",
    "    bb = [dlib.rectangle(left = left, top = top, right = width, bottom = height)]\n",
    "    boxes.append(bb)\n",
    "    \n",
    "    #將圖片放入images變數\n",
    "    images.append(io.imread(imagePath))\n"
   ]
  },
  {
   "cell_type": "code",
   "execution_count": null,
   "metadata": {},
   "outputs": [],
   "source": []
  }
 ],
 "metadata": {
  "kernelspec": {
   "display_name": "Python 3",
   "language": "python",
   "name": "python3"
  },
  "language_info": {
   "codemirror_mode": {
    "name": "ipython",
    "version": 3
   },
   "file_extension": ".py",
   "mimetype": "text/x-python",
   "name": "python",
   "nbconvert_exporter": "python",
   "pygments_lexer": "ipython3",
   "version": "3.6.9"
  }
 },
 "nbformat": 4,
 "nbformat_minor": 4
}
